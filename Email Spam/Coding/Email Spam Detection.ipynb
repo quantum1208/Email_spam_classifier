{
 "cells": [
  {
   "cell_type": "code",
   "execution_count": 43,
   "id": "6de13c72",
   "metadata": {},
   "outputs": [],
   "source": [
    "import numpy as np\n",
    "import pandas as pd\n",
    "from sklearn.model_selection import train_test_split\n",
    "from sklearn.feature_extraction.text import TfidfVectorizer\n",
    "from sklearn.linear_model import LogisticRegression\n",
    "from sklearn.metrics import accuracy_score"
   ]
  },
  {
   "cell_type": "code",
   "execution_count": 44,
   "id": "2cbb5c48",
   "metadata": {},
   "outputs": [],
   "source": [
    "data = pd.read_csv(\"mail_data.csv\")"
   ]
  },
  {
   "cell_type": "code",
   "execution_count": 45,
   "id": "79a42175",
   "metadata": {},
   "outputs": [],
   "source": [
    "d = data.where((pd.notnull(data)), '')"
   ]
  },
  {
   "cell_type": "code",
   "execution_count": 46,
   "id": "3cc4cac3",
   "metadata": {},
   "outputs": [
    {
     "name": "stdout",
     "output_type": "stream",
     "text": [
      "<class 'pandas.core.frame.DataFrame'>\n",
      "RangeIndex: 5580 entries, 0 to 5579\n",
      "Data columns (total 2 columns):\n",
      " #   Column    Non-Null Count  Dtype \n",
      "---  ------    --------------  ----- \n",
      " 0   Category  5580 non-null   object\n",
      " 1   Message   5580 non-null   object\n",
      "dtypes: object(2)\n",
      "memory usage: 87.3+ KB\n"
     ]
    }
   ],
   "source": [
    "d.info()"
   ]
  },
  {
   "cell_type": "code",
   "execution_count": 47,
   "id": "17c594fe",
   "metadata": {},
   "outputs": [
    {
     "data": {
      "text/plain": [
       "(5580, 2)"
      ]
     },
     "execution_count": 47,
     "metadata": {},
     "output_type": "execute_result"
    }
   ],
   "source": [
    "d.shape"
   ]
  },
  {
   "cell_type": "code",
   "execution_count": 48,
   "id": "d98a528d",
   "metadata": {},
   "outputs": [],
   "source": [
    "d.loc[d['Category']== 'spam','Category',]=0\n",
    "d.loc[d['Category']== 'ham','Category',]=1"
   ]
  },
  {
   "cell_type": "code",
   "execution_count": 49,
   "id": "b9c99eb7",
   "metadata": {},
   "outputs": [],
   "source": [
    "X = d['Message']\n",
    "Y = d['Category']"
   ]
  },
  {
   "cell_type": "code",
   "execution_count": 50,
   "id": "afd0dc38",
   "metadata": {},
   "outputs": [
    {
     "data": {
      "text/plain": [
       "0       1\n",
       "1       1\n",
       "2       0\n",
       "3       0\n",
       "4       0\n",
       "       ..\n",
       "5575    1\n",
       "5576    1\n",
       "5577    1\n",
       "5578    1\n",
       "5579    0\n",
       "Name: Category, Length: 5580, dtype: object"
      ]
     },
     "execution_count": 50,
     "metadata": {},
     "output_type": "execute_result"
    }
   ],
   "source": [
    "Y"
   ]
  },
  {
   "cell_type": "code",
   "execution_count": 51,
   "id": "e3ddbbc7",
   "metadata": {},
   "outputs": [],
   "source": [
    "X_train,X_test,Y_train,Y_test = train_test_split(X,Y,test_size = 0.2,random_state = 3)"
   ]
  },
  {
   "cell_type": "code",
   "execution_count": 52,
   "id": "bf1ac205",
   "metadata": {},
   "outputs": [
    {
     "name": "stdout",
     "output_type": "stream",
     "text": [
      "5381    Do u konw waht is rael FRIENDSHIP Im gving yuo...\n",
      "2320    tddnewsletter@emc1.co.uk (More games from TheD...\n",
      "1140                  Good morning princess! How are you?\n",
      "3085              There is no sense in my foot and penis.\n",
      "1794    Do you know why god created gap between your f...\n",
      "                              ...                        \n",
      "789     Hmmm ... I thought we said 2 hours slave, not ...\n",
      "968                    U sure u can't take any sick time?\n",
      "1667                         Yeah, where's your class at?\n",
      "3321    Huh... Hyde park not in mel ah, opps, got conf...\n",
      "1688                                   Okay... We wait ah\n",
      "Name: Message, Length: 4464, dtype: object\n"
     ]
    }
   ],
   "source": [
    "feature_extraction = TfidfVectorizer(min_df = 1, stop_words = 'english',lowercase='True')\n",
    "X_train_features = feature_extraction.fit_transform(X_train)\n",
    "X_test_features = feature_extraction.transform(X_test)\n",
    "Y_train = Y_train.astype('int')\n",
    "Y_test = Y_test.astype('int')\n",
    "print(X_train)"
   ]
  },
  {
   "cell_type": "code",
   "execution_count": 53,
   "id": "fc1b8d79",
   "metadata": {},
   "outputs": [],
   "source": [
    "model = LogisticRegression()"
   ]
  },
  {
   "cell_type": "code",
   "execution_count": 54,
   "id": "2e243a9e",
   "metadata": {},
   "outputs": [
    {
     "data": {
      "text/plain": [
       "LogisticRegression()"
      ]
     },
     "execution_count": 54,
     "metadata": {},
     "output_type": "execute_result"
    }
   ],
   "source": [
    "model.fit(X_train_features, Y_train)"
   ]
  },
  {
   "cell_type": "code",
   "execution_count": 55,
   "id": "f1316085",
   "metadata": {},
   "outputs": [],
   "source": [
    "prediction_on_training_data = model.predict(X_train_features)\n",
    "accuracy_on_training_data = accuracy_score(Y_train,prediction_on_training_data)"
   ]
  },
  {
   "cell_type": "code",
   "execution_count": 56,
   "id": "d248f3a5",
   "metadata": {},
   "outputs": [
    {
     "name": "stdout",
     "output_type": "stream",
     "text": [
      "Accuracy of training data: 0.9681899641577061\n"
     ]
    }
   ],
   "source": [
    "print(\"Accuracy of training data:\",accuracy_on_training_data)"
   ]
  },
  {
   "cell_type": "code",
   "execution_count": 57,
   "id": "7e4cdf83",
   "metadata": {},
   "outputs": [
    {
     "name": "stdout",
     "output_type": "stream",
     "text": [
      "Accuracy of testing data: 0.9596774193548387\n"
     ]
    }
   ],
   "source": [
    "prediction_on_testing_data = model.predict(X_test_features)\n",
    "accuracy_on_testing_data = accuracy_score(Y_test,prediction_on_testing_data)\n",
    "print(\"Accuracy of testing data:\",accuracy_on_testing_data)"
   ]
  },
  {
   "cell_type": "code",
   "execution_count": 58,
   "id": "10681014",
   "metadata": {},
   "outputs": [
    {
     "name": "stdout",
     "output_type": "stream",
     "text": [
      "[0]\n"
     ]
    }
   ],
   "source": [
    "input_the_mail = [\"Important: Security Alert - Please Update Your Password Immediately!\"]\n",
    "input_data_features = feature_extraction.transform(input_the_mail)\n",
    "prediction = model.predict(input_data_features)\n",
    "print(prediction)"
   ]
  },
  {
   "cell_type": "code",
   "execution_count": null,
   "id": "b73cc5a7",
   "metadata": {},
   "outputs": [],
   "source": []
  }
 ],
 "metadata": {
  "kernelspec": {
   "display_name": "Python 3",
   "language": "python",
   "name": "python3"
  },
  "language_info": {
   "codemirror_mode": {
    "name": "ipython",
    "version": 3
   },
   "file_extension": ".py",
   "mimetype": "text/x-python",
   "name": "python",
   "nbconvert_exporter": "python",
   "pygments_lexer": "ipython3",
   "version": "3.8.8"
  }
 },
 "nbformat": 4,
 "nbformat_minor": 5
}
